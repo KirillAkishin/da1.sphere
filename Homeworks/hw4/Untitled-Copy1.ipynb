{
 "cells": [
  {
   "cell_type": "code",
   "execution_count": 1,
   "metadata": {},
   "outputs": [],
   "source": [
    "import re\n",
    "import requests\n",
    "from bs4 import BeautifulSoup\n",
    "import time\n",
    "from tqdm import tqdm_notebook\n",
    "import sys\n",
    "from multiprocessing import Pool"
   ]
  },
  {
   "cell_type": "code",
   "execution_count": 2,
   "metadata": {},
   "outputs": [],
   "source": [
    "site_name = 'https://www.respublica.ru'"
   ]
  },
  {
   "cell_type": "code",
   "execution_count": 5,
   "metadata": {
    "scrolled": true
   },
   "outputs": [],
   "source": [
    "def book_refs_loading(site_name, author_id):\n",
    "#     author_id = str(15753) # потом поменяешь на нужную\n",
    "    def preprocessing():\n",
    "        address_author_id = site_name + '/authors/' + author_id\n",
    "        r_get = requests.get(address_author_id)\n",
    "        author_soup = BeautifulSoup(r_get.text, 'lxml')\n",
    "\n",
    "    total_books_el = author_soup.find('div', class_=\"rd-listing-count\")\n",
    "    total_books = int(re.search('\\d+ товаров', total_books_el.text).group(0)[:-8])\n",
    "    pbar = tqdm_notebook(total=total_books)\n",
    "\n",
    "    books_descs = author_soup.find_all('a', itemprop='name')\n",
    "    for i in range(len(books_descs)):\n",
    "        with open('book_links.txt', 'a') as f:\n",
    "            f.write(site_name + books_descs[i]['href'] + '\\n')\n",
    "        pbar.update(1)\n",
    "\n",
    "    while True:\n",
    "        next_page_el = author_soup.find('a', class_=\"rd-listing-load-more\")\n",
    "        if next_page_el is None:\n",
    "            break\n",
    "    #     print(\"-\"*10, \"NEXT PAGE\", \"-\"*10)\n",
    "        ref_to_next_page = next_page_el['href']\n",
    "        ref_to_next_page = re.search('.+&', ref_to_next_page).group(0)[:-1]\n",
    "\n",
    "        curr_address = site_name + ref_to_next_page\n",
    "        r_get = requests.get(curr_address)\n",
    "        if not (r_get.ok):\n",
    "            break\n",
    "        author_soup = BeautifulSoup(r_get.text, 'lxml')\n",
    "\n",
    "        books_descs = author_soup.find_all('a', itemprop='name')\n",
    "        for i in range(len(books_descs)):\n",
    "            with open('book_links.txt', 'a') as f:\n",
    "                f.write(site_name + books_descs[i]['href'] + '\\n')\n",
    "            pbar.update(1)\n",
    "\n",
    "        time.sleep(0.5)"
   ]
  },
  {
   "cell_type": "code",
   "execution_count": 8,
   "metadata": {},
   "outputs": [
    {
     "data": {
      "text/plain": [
       "'6'"
      ]
     },
     "execution_count": 8,
     "metadata": {},
     "output_type": "execute_result"
    }
   ],
   "source": [
    "st = '6 из 6 товаров'\n",
    "re.search('из \\d+', st).group(0)[3:]"
   ]
  },
  {
   "cell_type": "code",
   "execution_count": null,
   "metadata": {},
   "outputs": [],
   "source": [
    "%%time\n",
    "\n",
    "with Pool(processes=10) as pool:\n",
    "    pages = pool.map(book_refs_loading, range(n_post_first, n_post_final, 2))\n",
    "pool.join()   "
   ]
  },
  {
   "cell_type": "code",
   "execution_count": 56,
   "metadata": {},
   "outputs": [
    {
     "data": {
      "text/plain": [
       "198"
      ]
     },
     "execution_count": 56,
     "metadata": {},
     "output_type": "execute_result"
    }
   ],
   "source": [
    "books_number_el = author_soup.find('div', class_=\"rd-listing-count\")\n",
    "int(re.search('\\d+ товаров', books_number_el.text).group(0)[:-8])"
   ]
  },
  {
   "cell_type": "code",
   "execution_count": 64,
   "metadata": {},
   "outputs": [
    {
     "data": {
      "application/vnd.jupyter.widget-view+json": {
       "model_id": "34318ea6f4d24735a44b4790e59cdc2f",
       "version_major": 2,
       "version_minor": 0
      },
      "text/plain": [
       "HBox(children=(IntProgress(value=0, max=5), HTML(value='')))"
      ]
     },
     "metadata": {},
     "output_type": "display_data"
    }
   ],
   "source": [
    "import sys\n",
    "f = open('text2.txt', 'a')\n",
    "\n",
    "values = range(4)\n",
    "pbar = tqdm_notebook(total=len(values)+1)\n",
    "pbar.update(1)\n",
    "for i in values:\n",
    "    f.write(str(i)+'\\n')\n",
    "    pbar.update(1)\n",
    "    sleep(0.5)\n",
    "f.close()"
   ]
  },
  {
   "cell_type": "code",
   "execution_count": 22,
   "metadata": {},
   "outputs": [
    {
     "data": {
      "application/vnd.jupyter.widget-view+json": {
       "model_id": "85d304e78b2c450a8533d66d6080e162",
       "version_major": 2,
       "version_minor": 0
      },
      "text/plain": [
       "HBox(children=(IntProgress(value=0, max=32), HTML(value='')))"
      ]
     },
     "metadata": {},
     "output_type": "display_data"
    }
   ],
   "source": [
    "values = range(32)\n",
    "with tqdm_notebook(total=len(values)) as pbar:\n",
    "    for i in values:\n",
    "#         pbar.write('processed: %d' % (1 + i))\n",
    "        pbar.update(1)\n",
    "        sleep(0.05)"
   ]
  },
  {
   "cell_type": "code",
   "execution_count": null,
   "metadata": {},
   "outputs": [],
   "source": [
    "curr_address = \n",
    "r_get = requests.get(curr_address)\n",
    "if !r_get.ok:\n",
    "    break\n",
    "author_page = r_get.text\n",
    "author_soup = BeautifulSoup(film_page, 'lxml')"
   ]
  },
  {
   "cell_type": "code",
   "execution_count": 67,
   "metadata": {},
   "outputs": [
    {
     "data": {
      "text/plain": [
       "'/authors/15753?page=2'"
      ]
     },
     "execution_count": 67,
     "metadata": {},
     "output_type": "execute_result"
    }
   ],
   "source": [
    "temp_str"
   ]
  },
  {
   "cell_type": "code",
   "execution_count": null,
   "metadata": {},
   "outputs": [],
   "source": [
    "<a class=\"rd-listing-load-more\" \n",
    "data-remote=\"true\" \n",
    "href=\"/authors/15753?page=2&amp;ajax_append_page=true\">\n",
    "    <span class=\"rd-listing-load-more__text\">\n",
    "        Загрузить еще\n",
    "    </span>\n",
    "</a>"
   ]
  }
 ],
 "metadata": {
  "kernelspec": {
   "display_name": "Python 3",
   "language": "python",
   "name": "python3"
  },
  "language_info": {
   "codemirror_mode": {
    "name": "ipython",
    "version": 3
   },
   "file_extension": ".py",
   "mimetype": "text/x-python",
   "name": "python",
   "nbconvert_exporter": "python",
   "pygments_lexer": "ipython3",
   "version": "3.7.3"
  }
 },
 "nbformat": 4,
 "nbformat_minor": 2
}
