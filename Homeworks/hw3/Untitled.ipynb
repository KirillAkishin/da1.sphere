{
 "cells": [
  {
   "cell_type": "code",
   "execution_count": 616,
   "metadata": {},
   "outputs": [],
   "source": [
    "from time import sleep\n",
    "\n",
    "def timeout(rps):\n",
    "    def decorator(func):\n",
    "        def wrapper(*args, **argv):\n",
    "            result = func(*args, **argv)\n",
    "            time.sleep(1/rps)\n",
    "            return result\n",
    "        return wrapper\n",
    "    return decorator"
   ]
  },
  {
   "cell_type": "code",
   "execution_count": 721,
   "metadata": {},
   "outputs": [],
   "source": [
    "import functools\n",
    "\n",
    "def counter(func):\n",
    "    if not hasattr(counter, 'flag'):\n",
    "        setattr(counter, 'flag', 1)\n",
    "    @functools.wraps(func)\n",
    "    def wrapper(*args, **argv):\n",
    "        if not hasattr(wrapper, 'ncalls') or counter.flag == 0:\n",
    "            setattr(wrapper, 'ncalls', 0)\n",
    "        if not hasattr(wrapper, 'rdepth') or counter.flag == 0:\n",
    "            setattr(wrapper, 'rdepth', 0)\n",
    "        \n",
    "        wrapper.ncalls += 1\n",
    "        wrapper.rdepth += 1\n",
    "   \n",
    "        if not hasattr(wrapper, 'count_before'):\n",
    "            setattr(wrapper, 'count_before', 0)\n",
    "        wrapper.count_before += 1\n",
    "        result = func(*args, **argv)\n",
    "#         wrapper.flag = 0\n",
    "        if not hasattr(wrapper, 'count_after'):\n",
    "            setattr(wrapper, 'count_after', 0)\n",
    "        wrapper.count_after += 1\n",
    "        \n",
    "        return result\n",
    "#     if not hasattr(counter, 'count_after'):\n",
    "#         setattr(counter, 'count_after', 0)\n",
    "#     counter.count_after += 1\n",
    "#     print(counter.count_after)\n",
    "    counter.flag = 0\n",
    "    return wrapper"
   ]
  },
  {
   "cell_type": "code",
   "execution_count": 799,
   "metadata": {},
   "outputs": [],
   "source": [
    "import functools\n",
    "\n",
    "def counter(func):\n",
    "    def decorator(func):\n",
    "        func.__invocation_count__ = 0\n",
    "        func.ncalls = 0\n",
    "        func.rdepth = 0\n",
    "        print(\"FLAG 1\")\n",
    "        @functools.wraps(func)\n",
    "        def wrapper(*args, **argv):\n",
    "            print(\"FLAG 2\")\n",
    "            if not hasattr(wrapper, 'ncalls'):\n",
    "                setattr(wrapper, 'ncalls', 0)\n",
    "            wrapper.ncalls += 1\n",
    "            func.rdepth += 1\n",
    "    #         print(\"func.ncalls =\", func.ncalls)\n",
    "    #         print(\"{0} была вызвана: {1}x\".format(func.__name__, func.__invocation_count__))\n",
    "            result = func(*args, **argv)\n",
    "        \n",
    "            return result\n",
    "        return wrapper\n",
    "    return decorator"
   ]
  },
  {
   "cell_type": "code",
   "execution_count": 800,
   "metadata": {},
   "outputs": [
    {
     "ename": "TypeError",
     "evalue": "decorator() missing 1 required positional argument: 'func'",
     "output_type": "error",
     "traceback": [
      "\u001b[0;31m---------------------------------------------------------------------------\u001b[0m",
      "\u001b[0;31mTypeError\u001b[0m                                 Traceback (most recent call last)",
      "\u001b[0;32m<ipython-input-800-3b0a6efb2843>\u001b[0m in \u001b[0;36m<module>\u001b[0;34m\u001b[0m\n\u001b[1;32m      4\u001b[0m \u001b[0;34m\u001b[0m\u001b[0m\n\u001b[1;32m      5\u001b[0m \u001b[0;32mif\u001b[0m \u001b[0m__name__\u001b[0m \u001b[0;34m==\u001b[0m \u001b[0;34m\"__main__\"\u001b[0m\u001b[0;34m:\u001b[0m\u001b[0;34m\u001b[0m\u001b[0;34m\u001b[0m\u001b[0m\n\u001b[0;32m----> 6\u001b[0;31m     \u001b[0mfunc1\u001b[0m\u001b[0;34m(\u001b[0m\u001b[0;34m)\u001b[0m\u001b[0;34m\u001b[0m\u001b[0;34m\u001b[0m\u001b[0m\n\u001b[0m\u001b[1;32m      7\u001b[0m     \u001b[0mprint\u001b[0m\u001b[0;34m(\u001b[0m\u001b[0mfunc1\u001b[0m\u001b[0;34m.\u001b[0m\u001b[0mncalls\u001b[0m\u001b[0;34m,\u001b[0m \u001b[0mfunc1\u001b[0m\u001b[0;34m.\u001b[0m\u001b[0mrdepth\u001b[0m\u001b[0;34m)\u001b[0m\u001b[0;34m\u001b[0m\u001b[0;34m\u001b[0m\u001b[0m\n\u001b[1;32m      8\u001b[0m \u001b[0;34m\u001b[0m\u001b[0m\n",
      "\u001b[0;31mTypeError\u001b[0m: decorator() missing 1 required positional argument: 'func'"
     ]
    }
   ],
   "source": [
    "@counter\n",
    "def func1():\n",
    "    return\n",
    "\n",
    "if __name__ == \"__main__\":\n",
    "    func1()\n",
    "    print(func1.ncalls, func1.rdepth)\n",
    "    \n",
    "    func1()\n",
    "    print(func1.ncalls, func1.rdepth)"
   ]
  },
  {
   "cell_type": "code",
   "execution_count": 782,
   "metadata": {},
   "outputs": [
    {
     "name": "stdout",
     "output_type": "stream",
     "text": [
      "FLAG 1\n",
      "FLAG 2\n",
      "FLAG 2\n",
      "FLAG 2\n",
      "FLAG 2\n",
      "FLAG 2\n",
      "FLAG 2\n",
      "FLAG 2\n",
      "FLAG 2\n",
      "FLAG 2\n",
      "FLAG 2\n",
      "FLAG 2\n",
      "FLAG 2\n",
      "FLAG 2\n",
      "FLAG 2\n",
      "FLAG 2\n",
      "FLAG 2\n",
      "FLAG 2\n",
      "FLAG 2\n",
      "FLAG 2\n",
      "FLAG 2\n",
      "FLAG 2\n",
      "FLAG 2\n",
      "FLAG 2\n",
      "FLAG 2\n",
      "FLAG 2\n",
      "FLAG 2\n",
      "FLAG 2\n",
      "FLAG 2\n",
      "FLAG 2\n",
      "FLAG 2\n",
      "FLAG 2\n",
      "FLAG 2\n",
      "FLAG 2\n",
      "FLAG 2\n",
      "FLAG 2\n",
      "FLAG 2\n",
      "FLAG 2\n",
      "FLAG 2\n",
      "FLAG 2\n",
      "FLAG 2\n",
      "FLAG 2\n",
      "FLAG 2\n",
      "FLAG 2\n",
      "FLAG 2\n",
      "FLAG 2\n",
      "FLAG 2\n",
      "FLAG 2\n",
      "FLAG 2\n",
      "FLAG 2\n",
      "FLAG 2\n",
      "FLAG 2\n",
      "FLAG 2\n",
      "FLAG 2\n",
      "FLAG 2\n",
      "FLAG 2\n",
      "FLAG 2\n",
      "FLAG 2\n",
      "FLAG 2\n",
      "FLAG 2\n",
      "FLAG 2\n",
      "FLAG 2\n",
      "FLAG 2\n",
      "FLAG 2\n",
      "63 0\n",
      "FLAG 2\n",
      "FLAG 2\n",
      "FLAG 2\n",
      "FLAG 2\n",
      "FLAG 2\n",
      "FLAG 2\n",
      "FLAG 2\n",
      "FLAG 2\n",
      "FLAG 2\n",
      "FLAG 2\n",
      "FLAG 2\n",
      "FLAG 2\n",
      "FLAG 2\n",
      "FLAG 2\n",
      "FLAG 2\n",
      "78 0\n"
     ]
    }
   ],
   "source": [
    "@counter\n",
    "def func2(n, steps):\n",
    "    if steps == 0:\n",
    "        return\n",
    "\n",
    "    func2(n + 1, steps - 1)\n",
    "    func2(n - 1, steps - 1)\n",
    "\n",
    "if __name__ == \"__main__\":\n",
    "    func2(0, 5)\n",
    "    print(func2.ncalls, func2.rdepth)\n",
    "\n",
    "    func2(0, 3)\n",
    "    print(func2.ncalls, func2.rdepth)"
   ]
  },
  {
   "cell_type": "code",
   "execution_count": 696,
   "metadata": {
    "scrolled": true
   },
   "outputs": [
    {
     "data": {
      "text/plain": [
       "['__annotations__',\n",
       " '__call__',\n",
       " '__class__',\n",
       " '__closure__',\n",
       " '__code__',\n",
       " '__defaults__',\n",
       " '__delattr__',\n",
       " '__dict__',\n",
       " '__dir__',\n",
       " '__doc__',\n",
       " '__eq__',\n",
       " '__format__',\n",
       " '__ge__',\n",
       " '__get__',\n",
       " '__getattribute__',\n",
       " '__globals__',\n",
       " '__gt__',\n",
       " '__hash__',\n",
       " '__init__',\n",
       " '__init_subclass__',\n",
       " '__kwdefaults__',\n",
       " '__le__',\n",
       " '__lt__',\n",
       " '__module__',\n",
       " '__name__',\n",
       " '__ne__',\n",
       " '__new__',\n",
       " '__qualname__',\n",
       " '__reduce__',\n",
       " '__reduce_ex__',\n",
       " '__repr__',\n",
       " '__setattr__',\n",
       " '__sizeof__',\n",
       " '__str__',\n",
       " '__subclasshook__']"
      ]
     },
     "execution_count": 696,
     "metadata": {},
     "output_type": "execute_result"
    }
   ],
   "source": [
    "dir(counter)"
   ]
  },
  {
   "cell_type": "code",
   "execution_count": null,
   "metadata": {},
   "outputs": [],
   "source": []
  },
  {
   "cell_type": "code",
   "execution_count": null,
   "metadata": {},
   "outputs": [],
   "source": []
  },
  {
   "cell_type": "code",
   "execution_count": null,
   "metadata": {},
   "outputs": [],
   "source": [
    "from itertools import cycle\n",
    "\n",
    "def chain_loop(args):\n",
    "    idx_args = list(range(len(args)))\n",
    "    idx_obj_prev = 0\n",
    "    iter_counter = 0\n",
    "    for i, idx_obj in enumerate(cycle(idx_args)):\n",
    "        if idx_args == []:\n",
    "            break\n",
    "        if idx_obj_prev > idx_obj:\n",
    "            iter_counter += 1\n",
    "        if idx_obj not in idx_args:\n",
    "            continue            \n",
    "        obj = args[idx_obj]\n",
    "        try:\n",
    "            w = next(obj)\n",
    "        except Exception:\n",
    "            idx_args.remove(idx_obj)\n",
    "            idx_obj_prev = idx_obj\n",
    "            continue        \n",
    "        idx_obj_prev = idx_obj\n",
    "        yield w"
   ]
  },
  {
   "cell_type": "code",
   "execution_count": 1012,
   "metadata": {},
   "outputs": [],
   "source": [
    "a = (i for i in range(10))\n",
    "b = a\n",
    "\n",
    "# id(a) == id(b)\n",
    "# list(a)[0]\n",
    "\n",
    "# print(list(chain_loop([a, b])))"
   ]
  },
  {
   "cell_type": "code",
   "execution_count": 1021,
   "metadata": {},
   "outputs": [],
   "source": [
    "from itertools import cycle\n",
    "\n",
    "def chain_loop(args):\n",
    "    idx_args = list(range(len(args)))\n",
    "    idx_obj_prev = 0\n",
    "    iter_counter = 0\n",
    "    args = list(map(iter, args))\n",
    "    for i, idx_obj in enumerate(cycle(idx_args)):\n",
    "#         print(idx_obj)\n",
    "        if idx_args == []:\n",
    "            break\n",
    "        if idx_obj_prev > idx_obj:\n",
    "            iter_counter += 1\n",
    "        if idx_obj not in idx_args:\n",
    "            continue            \n",
    "        obj = iter(args[idx_obj])\n",
    "#         print('test:\\titer_counter = ', iter_counter, 'obj =', obj)\n",
    "        try:\n",
    "#             w = list(obj)[iter_counter]\n",
    "            w = next(obj)\n",
    "        except Exception:\n",
    "#             print(\"ERR: idx_obj =\", idx_obj, '\\n')\n",
    "            idx_args.remove(idx_obj)\n",
    "            idx_obj_prev = idx_obj\n",
    "            continue        \n",
    "        idx_obj_prev = idx_obj\n",
    "#         print(\"OK: idx_obj =\", idx_obj, \"\\tw =\", w, '\\n')\n",
    "        yield w"
   ]
  },
  {
   "cell_type": "code",
   "execution_count": 1022,
   "metadata": {},
   "outputs": [
    {
     "name": "stdout",
     "output_type": "stream",
     "text": [
      "[0, 0, 0, 1, 1, 1, 2, 2, 2, 3, 3, 4, 4, 5, 6, 7, 8, 9]\n"
     ]
    }
   ],
   "source": [
    "a = range(5)\n",
    "b = range(10)\n",
    "c = range(3)\n",
    "\n",
    "print(list(chain_loop([a, b, c])))\n"
   ]
  },
  {
   "cell_type": "code",
   "execution_count": 1023,
   "metadata": {},
   "outputs": [
    {
     "name": "stdout",
     "output_type": "stream",
     "text": [
      "[None, 1, None, 1, None, 1, 1, 1]\n"
     ]
    }
   ],
   "source": [
    "a = [None, None, None]\n",
    "b = [1] * 5\n",
    "\n",
    "print(list(chain_loop([a, b])))"
   ]
  },
  {
   "cell_type": "code",
   "execution_count": 929,
   "metadata": {},
   "outputs": [
    {
     "name": "stdout",
     "output_type": "stream",
     "text": [
      "1\n",
      "1\n",
      "1\n",
      "1\n",
      "1\n",
      "1\n",
      "1\n",
      "1\n",
      "1\n",
      "1\n",
      "1\n",
      "1\n",
      "1\n",
      "1\n",
      "1\n",
      "1\n",
      "1\n",
      "1\n",
      "1\n",
      "1\n",
      "1\n"
     ]
    }
   ],
   "source": [
    "c = 0\n",
    "for i in cycle(t):\n",
    "    print(i)\n",
    "    c += 1\n",
    "    if c > 20:\n",
    "        break"
   ]
  },
  {
   "cell_type": "code",
   "execution_count": 927,
   "metadata": {},
   "outputs": [],
   "source": [
    "t = [0,1]\n",
    "t.remove(0)"
   ]
  },
  {
   "cell_type": "code",
   "execution_count": 928,
   "metadata": {},
   "outputs": [
    {
     "data": {
      "text/plain": [
       "[1]"
      ]
     },
     "execution_count": 928,
     "metadata": {},
     "output_type": "execute_result"
    }
   ],
   "source": [
    "t"
   ]
  },
  {
   "cell_type": "code",
   "execution_count": 975,
   "metadata": {},
   "outputs": [
    {
     "data": {
      "text/plain": [
       "0"
      ]
     },
     "execution_count": 975,
     "metadata": {},
     "output_type": "execute_result"
    }
   ],
   "source": [
    "tt = [0, 1, 2, 3, 4, 5, 6, 7, 8, 9]\n",
    "tt[0]"
   ]
  },
  {
   "cell_type": "code",
   "execution_count": 980,
   "metadata": {},
   "outputs": [
    {
     "data": {
      "text/plain": [
       "0"
      ]
     },
     "execution_count": 980,
     "metadata": {},
     "output_type": "execute_result"
    }
   ],
   "source": [
    "list(range(10))[0]"
   ]
  },
  {
   "cell_type": "code",
   "execution_count": null,
   "metadata": {},
   "outputs": [],
   "source": []
  }
 ],
 "metadata": {
  "kernelspec": {
   "display_name": "Python 3",
   "language": "python",
   "name": "python3"
  },
  "language_info": {
   "codemirror_mode": {
    "name": "ipython",
    "version": 3
   },
   "file_extension": ".py",
   "mimetype": "text/x-python",
   "name": "python",
   "nbconvert_exporter": "python",
   "pygments_lexer": "ipython3",
   "version": "3.7.3"
  }
 },
 "nbformat": 4,
 "nbformat_minor": 2
}
