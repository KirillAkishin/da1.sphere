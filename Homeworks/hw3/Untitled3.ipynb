{
 "cells": [
  {
   "cell_type": "code",
   "execution_count": 198,
   "metadata": {},
   "outputs": [],
   "source": [
    "def brackets(n):\n",
    "    def calc():\n",
    "        total = ''\n",
    "        while True:\n",
    "            x = yield total\n",
    "            if x is None:\n",
    "                break\n",
    "            yield x\n",
    "\n",
    "    c = calc()\n",
    "\n",
    "    def bb(n, opened=0, closed=0, res=''):\n",
    "        if opened + closed == 2 * n:\n",
    "            c.send(res)\n",
    "        if opened < n:\n",
    "            bb(n, opened + 1, closed, res + '(')\n",
    "        if opened > closed:\n",
    "            bb(n, opened, closed + 1, res + ')')\n",
    "         \n",
    "    c.send(None)\n",
    "    \n",
    "    for i in c:\n",
    "        bb(n)\n",
    "        print(i)\n",
    "        yield i"
   ]
  },
  {
   "cell_type": "code",
   "execution_count": 199,
   "metadata": {},
   "outputs": [],
   "source": [
    "# brackets(3)\n",
    "# print(temp)\n",
    "\n",
    "for i in brackets(3):\n",
    "    print('s', i)\n",
    "#     pass"
   ]
  },
  {
   "cell_type": "code",
   "execution_count": 23,
   "metadata": {},
   "outputs": [
    {
     "ename": "TypeError",
     "evalue": "'function' object is not an iterator",
     "output_type": "error",
     "traceback": [
      "\u001b[0;31m---------------------------------------------------------------------------\u001b[0m",
      "\u001b[0;31mTypeError\u001b[0m                                 Traceback (most recent call last)",
      "\u001b[0;32m<ipython-input-23-aaa141248cac>\u001b[0m in \u001b[0;36m<module>\u001b[0;34m\u001b[0m\n\u001b[0;32m----> 1\u001b[0;31m \u001b[0mnext\u001b[0m\u001b[0;34m(\u001b[0m\u001b[0mbrackets\u001b[0m\u001b[0;34m)\u001b[0m\u001b[0;34m\u001b[0m\u001b[0;34m\u001b[0m\u001b[0m\n\u001b[0m",
      "\u001b[0;31mTypeError\u001b[0m: 'function' object is not an iterator"
     ]
    }
   ],
   "source": [
    "next(brackets)"
   ]
  },
  {
   "cell_type": "code",
   "execution_count": null,
   "metadata": {},
   "outputs": [],
   "source": []
  }
 ],
 "metadata": {
  "kernelspec": {
   "display_name": "Python 3",
   "language": "python",
   "name": "python3"
  },
  "language_info": {
   "codemirror_mode": {
    "name": "ipython",
    "version": 3
   },
   "file_extension": ".py",
   "mimetype": "text/x-python",
   "name": "python",
   "nbconvert_exporter": "python",
   "pygments_lexer": "ipython3",
   "version": "3.7.3"
  }
 },
 "nbformat": 4,
 "nbformat_minor": 2
}
