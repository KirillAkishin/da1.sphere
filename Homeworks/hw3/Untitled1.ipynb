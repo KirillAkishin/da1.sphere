{
 "cells": [
  {
   "cell_type": "code",
   "execution_count": 37,
   "metadata": {},
   "outputs": [],
   "source": [
    "from itertools import cycle\n",
    "\n",
    "def chain_loop(args):\n",
    "    idx_args = list(range(len(args)))\n",
    "    idx_obj_prev = 0\n",
    "    iter_counter = 0\n",
    "    for i, idx_obj in enumerate(cycle(idx_args)):\n",
    "#         print(idx_obj)\n",
    "        if idx_args == []:\n",
    "            break\n",
    "        if idx_obj_prev > idx_obj:\n",
    "            iter_counter += 1\n",
    "        if idx_obj not in idx_args:\n",
    "            continue            \n",
    "        obj = args[idx_obj]\n",
    "#         print('test: list(obj) =', list(obj), '\\titer_counter = ', iter_counter)\n",
    "        try:\n",
    "#             w = list(obj)[iter_counter]\n",
    "            w = next(obj)\n",
    "        except Exception:\n",
    "#             print(\"ERR: idx_obj =\", idx_obj, '\\n')\n",
    "            idx_args.remove(idx_obj)\n",
    "            idx_obj_prev = idx_obj\n",
    "            continue        \n",
    "        idx_obj_prev = idx_obj\n",
    "#         print(\"OK: idx_obj =\", idx_obj, \"\\tw =\", w, '\\n')\n",
    "        yield w"
   ]
  },
  {
   "cell_type": "code",
   "execution_count": 39,
   "metadata": {},
   "outputs": [
    {
     "name": "stdout",
     "output_type": "stream",
     "text": [
      "[0, 1, 2, 3, 4, 5, 6, 7, 8, 9]\n"
     ]
    }
   ],
   "source": [
    "a = (i for i in range(10))\n",
    "b = a\n",
    "# list(a)[0]\n",
    "\n",
    "print(list(chain_loop([a, b])))"
   ]
  },
  {
   "cell_type": "code",
   "execution_count": 27,
   "metadata": {},
   "outputs": [],
   "source": [
    "a = (i for i in range(10))\n",
    "\n",
    "b = list(a)\n",
    "# b = list(map(list, tee(a,1)))[0]"
   ]
  },
  {
   "cell_type": "code",
   "execution_count": 23,
   "metadata": {},
   "outputs": [
    {
     "data": {
      "text/plain": [
       "[]"
      ]
     },
     "execution_count": 23,
     "metadata": {},
     "output_type": "execute_result"
    }
   ],
   "source": [
    "copies = tee(a, 3)\n",
    "tuple(map(list, copies))"
   ]
  },
  {
   "cell_type": "code",
   "execution_count": 28,
   "metadata": {},
   "outputs": [
    {
     "data": {
      "text/plain": [
       "[0, 1, 2, 3, 4, 5, 6, 7, 8, 9]"
      ]
     },
     "execution_count": 28,
     "metadata": {},
     "output_type": "execute_result"
    }
   ],
   "source": [
    "b"
   ]
  },
  {
   "cell_type": "code",
   "execution_count": 29,
   "metadata": {},
   "outputs": [
    {
     "data": {
      "text/plain": [
       "[0, 1, 2, 3, 4, 5, 6, 7, 8, 9]"
      ]
     },
     "execution_count": 29,
     "metadata": {},
     "output_type": "execute_result"
    }
   ],
   "source": [
    "b"
   ]
  },
  {
   "cell_type": "code",
   "execution_count": 50,
   "metadata": {},
   "outputs": [],
   "source": [
    "c = range(5)"
   ]
  },
  {
   "cell_type": "code",
   "execution_count": 60,
   "metadata": {},
   "outputs": [],
   "source": [
    "d = iter(c)"
   ]
  },
  {
   "cell_type": "code",
   "execution_count": 61,
   "metadata": {},
   "outputs": [
    {
     "data": {
      "text/plain": [
       "0"
      ]
     },
     "execution_count": 61,
     "metadata": {},
     "output_type": "execute_result"
    }
   ],
   "source": [
    "next(d)"
   ]
  },
  {
   "cell_type": "code",
   "execution_count": null,
   "metadata": {},
   "outputs": [],
   "source": []
  },
  {
   "cell_type": "code",
   "execution_count": null,
   "metadata": {},
   "outputs": [],
   "source": []
  },
  {
   "cell_type": "code",
   "execution_count": null,
   "metadata": {},
   "outputs": [],
   "source": []
  },
  {
   "cell_type": "code",
   "execution_count": null,
   "metadata": {},
   "outputs": [],
   "source": []
  },
  {
   "cell_type": "code",
   "execution_count": null,
   "metadata": {},
   "outputs": [],
   "source": []
  },
  {
   "cell_type": "code",
   "execution_count": 67,
   "metadata": {},
   "outputs": [],
   "source": [
    "from itertools import cycle\n",
    "\n",
    "def chain_loop(args):\n",
    "    idx_args = list(range(len(args)))\n",
    "    idx_obj_prev = 0\n",
    "    iter_counter = 0\n",
    "    args = list(map(iter, args))\n",
    "    for i, idx_obj in enumerate(cycle(idx_args)):\n",
    "#         print(idx_obj)\n",
    "        if idx_args == []:\n",
    "            break\n",
    "        if idx_obj_prev > idx_obj:\n",
    "            iter_counter += 1\n",
    "        if idx_obj not in idx_args:\n",
    "            continue            \n",
    "        obj = iter(args[idx_obj])\n",
    "#         print('test:\\titer_counter = ', iter_counter, 'obj =', obj)\n",
    "        try:\n",
    "#             w = list(obj)[iter_counter]\n",
    "            w = next(obj)\n",
    "        except Exception:\n",
    "            print(\"ERR: idx_obj =\", idx_obj, '\\n')\n",
    "            idx_args.remove(idx_obj)\n",
    "            idx_obj_prev = idx_obj\n",
    "            continue        \n",
    "        idx_obj_prev = idx_obj\n",
    "#         print(\"OK: idx_obj =\", idx_obj, \"\\tw =\", w, '\\n')\n",
    "        yield w"
   ]
  },
  {
   "cell_type": "code",
   "execution_count": 68,
   "metadata": {},
   "outputs": [
    {
     "name": "stdout",
     "output_type": "stream",
     "text": [
      "ERR: idx_obj = 2 \n",
      "\n",
      "ERR: idx_obj = 0 \n",
      "\n",
      "ERR: idx_obj = 1 \n",
      "\n",
      "[0, 0, 0, 1, 1, 1, 2, 2, 2, 3, 3, 4, 4, 5, 6, 7, 8, 9]\n"
     ]
    }
   ],
   "source": [
    "a = range(5)\n",
    "b = range(10)\n",
    "c = range(3)\n",
    "\n",
    "print(list(chain_loop([a, b, c])))"
   ]
  },
  {
   "cell_type": "code",
   "execution_count": 69,
   "metadata": {},
   "outputs": [
    {
     "name": "stdout",
     "output_type": "stream",
     "text": [
      "ERR: idx_obj = 0 \n",
      "\n",
      "ERR: idx_obj = 1 \n",
      "\n",
      "[None, 1, None, 1, None, 1, 1, 1]\n"
     ]
    }
   ],
   "source": [
    "a = [None, None, None]\n",
    "b = [1] * 5\n",
    "\n",
    "print(list(chain_loop([a, b])))\n"
   ]
  },
  {
   "cell_type": "code",
   "execution_count": 70,
   "metadata": {},
   "outputs": [
    {
     "name": "stdout",
     "output_type": "stream",
     "text": [
      "ERR: idx_obj = 0 \n",
      "\n",
      "ERR: idx_obj = 1 \n",
      "\n",
      "[0, 1, 2, 3, 4, 5, 6, 7, 8, 9]\n"
     ]
    }
   ],
   "source": [
    "a = (i for i in range(10))\n",
    "b = a\n",
    "\n",
    "print(list(chain_loop([a, b])))"
   ]
  },
  {
   "cell_type": "code",
   "execution_count": 71,
   "metadata": {},
   "outputs": [
    {
     "name": "stdout",
     "output_type": "stream",
     "text": [
      "ERR: idx_obj = 0 \n",
      "\n",
      "ERR: idx_obj = 1 \n",
      "\n",
      "ERR: idx_obj = 2 \n",
      "\n",
      "ERR: idx_obj = 3 \n",
      "\n",
      "ERR: idx_obj = 4 \n",
      "\n",
      "[0, 0, 0, 0, 0, 1, 1, 1, 1, 1, 2, 2, 2, 2, 2]\n"
     ]
    }
   ],
   "source": [
    "from itertools import tee\n",
    "\n",
    "a = (i for i in range(3))\n",
    "\n",
    "print(list(chain_loop(tee(a, 5))))"
   ]
  },
  {
   "cell_type": "code",
   "execution_count": null,
   "metadata": {},
   "outputs": [],
   "source": []
  }
 ],
 "metadata": {
  "kernelspec": {
   "display_name": "Python 3",
   "language": "python",
   "name": "python3"
  },
  "language_info": {
   "codemirror_mode": {
    "name": "ipython",
    "version": 3
   },
   "file_extension": ".py",
   "mimetype": "text/x-python",
   "name": "python",
   "nbconvert_exporter": "python",
   "pygments_lexer": "ipython3",
   "version": "3.7.3"
  }
 },
 "nbformat": 4,
 "nbformat_minor": 2
}
